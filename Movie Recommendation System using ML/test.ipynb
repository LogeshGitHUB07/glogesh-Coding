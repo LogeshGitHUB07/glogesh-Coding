{
 "cells": [
  {
   "cell_type": "code",
   "execution_count": null,
   "id": "96ed1c97-0813-467b-bc53-cf84070d2831",
   "metadata": {},
   "outputs": [],
   "source": []
  },
  {
   "cell_type": "markdown",
   "id": "143cb29b-c8f7-4034-b766-e22f57b22f67",
   "metadata": {},
   "source": [
    "# Movie Recommendation System"
   ]
  },
  {
   "cell_type": "code",
   "execution_count": 57,
   "id": "a1e2c3a5-7af7-4361-b1b7-a06c8e9e01fc",
   "metadata": {},
   "outputs": [
    {
     "name": "stdin",
     "output_type": "stream",
     "text": [
      "Enter your favorite movie title:  Iron Man\n"
     ]
    },
    {
     "name": "stdout",
     "output_type": "stream",
     "text": [
      "Top 30 recommendations for 'Iron Man':\n",
      "Iron Man 2\n",
      "Iron Man 3\n",
      "Avengers: Age of Ultron\n",
      "Clown\n",
      "Tau\n",
      "Cradle 2 the Grave\n",
      "Spider-Man: Homecoming\n",
      "G.O.R.A.\n",
      "Time Trap\n",
      "The New Mutants\n",
      "Room\n",
      "The Wizards Return: Alex vs. Alex\n",
      "The Disappearance of Alice Creed\n",
      "The Anomaly\n",
      "The Dark Half\n",
      "Ace in the Hole\n",
      "Kung Fu Yoga\n",
      "Hostage\n",
      "Mad Max: Fury Road\n",
      "Rififi\n",
      "Charlie's Angels\n",
      "Ransom\n",
      "Black Water: Abyss\n",
      "Bāhubali: The Beginning\n",
      "Dead Rising: Watchtower\n",
      "Guardians of the Galaxy Vol. 2\n",
      "Batman Begins\n",
      "Missing in Action\n",
      "The Shape of Water\n",
      "The Little Vampire\n"
     ]
    }
   ],
   "source": [
    "import pickle\n",
    "\n",
    "# Load preprocessed data and similarity matrix\n",
    "new_data = pickle.load(open('movies_list.pkl', 'rb'))\n",
    "similarity = pickle.load(open('similarity.pkl', 'rb'))\n",
    "\n",
    "def recommand(movie_title):\n",
    "    # Check if the movie exists in the dataset\n",
    "    if movie_title not in new_data['title'].values:\n",
    "        print(\"Movie not found in the dataset.\")\n",
    "        return\n",
    "    \n",
    "    # Find the index of the movie in the dataset\n",
    "    index = new_data[new_data['title'] == movie_title].index[0]\n",
    "    \n",
    "    # Compute similarity scores\n",
    "    distance = sorted(list(enumerate(similarity[index])), reverse=True, key=lambda vector: vector[1])\n",
    "    \n",
    "    # Print the top 30 recommended movies\n",
    "    print(f\"Top 30 recommendations for '{movie_title}':\")\n",
    "    for i in distance[1:31]:  # Start from 1 to exclude the movie itself\n",
    "        print(new_data.iloc[i[0]].title)\n",
    "\n",
    "# Get user input\n",
    "if __name__ == \"__main__\":\n",
    "    user_input = input(\"Enter your favorite movie title: \")\n",
    "    recommand(user_input)\n"
   ]
  },
  {
   "cell_type": "code",
   "execution_count": null,
   "id": "181018e6-c204-4690-a854-6f3de5a9d56f",
   "metadata": {},
   "outputs": [],
   "source": []
  },
  {
   "cell_type": "code",
   "execution_count": null,
   "id": "b83d1486-77ba-4aa8-8389-1716fbdc78f2",
   "metadata": {},
   "outputs": [],
   "source": []
  }
 ],
 "metadata": {
  "kernelspec": {
   "display_name": "Python 3 (ipykernel)",
   "language": "python",
   "name": "python3"
  },
  "language_info": {
   "codemirror_mode": {
    "name": "ipython",
    "version": 3
   },
   "file_extension": ".py",
   "mimetype": "text/x-python",
   "name": "python",
   "nbconvert_exporter": "python",
   "pygments_lexer": "ipython3",
   "version": "3.12.4"
  }
 },
 "nbformat": 4,
 "nbformat_minor": 5
}
