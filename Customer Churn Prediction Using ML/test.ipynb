{
 "cells": [
  {
   "cell_type": "markdown",
   "id": "8914b3d1-9d26-4b3d-946c-92d64801e2ef",
   "metadata": {},
   "source": [
    "# CUSTOMER CHURN PREDICTION "
   ]
  },
  {
   "cell_type": "code",
   "execution_count": 31,
   "id": "7e3255e8-1a1d-403b-b74e-d4015d395d45",
   "metadata": {},
   "outputs": [],
   "source": [
    "import pickle\n",
    "import pandas as pd\n",
    "import numpy as np\n",
    "\n",
    "# Load the trained model\n",
    "with open(\"Customer_churn_model_RF.pkl\", \"rb\") as f:\n",
    "    model_data = pickle.load(f)\n",
    "\n",
    "loaded_model = model_data[\"model\"]\n",
    "feature_names = model_data[\"feature_names\"]\n",
    "\n",
    "# Load the encoders\n",
    "with open(\"encoders.pkl\", \"rb\") as f:\n",
    "    encoders = pickle.load(f)"
   ]
  },
  {
   "cell_type": "code",
   "execution_count": 33,
   "id": "a2f92b96-e718-4100-892e-5dc107cda7da",
   "metadata": {},
   "outputs": [],
   "source": [
    "\n",
    "# Example New Customer Input Data\n",
    "input_data = {\n",
    "    \"Dependents\": \"No\",\n",
    "    \"tenure\": 2,\n",
    "    \"OnlineSecurity\": \"Yes\",\n",
    "    \"OnlineBackup\": \"Yes\",\n",
    "    \"DeviceProtection\": \"No\",\n",
    "    \"TechSupport\": \"No\",\n",
    "    \"Contract\": \"Month-to-month\",\n",
    "    \"PaperlessBilling\": \"Yes\",\n",
    "    \"MonthlyCharges\": 53.85,\n",
    "    \"TotalCharges\": 108.15\n",
    "}"
   ]
  },
  {
   "cell_type": "code",
   "execution_count": 35,
   "id": "257be776-daf4-498a-bc04-b49d3b336443",
   "metadata": {},
   "outputs": [
    {
     "name": "stdout",
     "output_type": "stream",
     "text": [
      "Prediction: Churn [1]\n",
      "Prediction Probability: 0.5600\n"
     ]
    }
   ],
   "source": [
    "\n",
    "\n",
    "# Convert input_data into a DataFrame\n",
    "input_data_df = pd.DataFrame([input_data])\n",
    "\n",
    "# Encode categorical features using the saved encoders\n",
    "for column, encoder in encoders.items():\n",
    "    if column in input_data_df.columns:\n",
    "        input_data_df[column] = input_data_df[column].apply(\n",
    "            lambda x: encoder.transform([x])[0] if x in encoder.classes_ else -1\n",
    "        )  # Assign -1 to unseen categories\n",
    "\n",
    "# Ensure feature alignment with training data\n",
    "for col in feature_names:\n",
    "    if col not in input_data_df.columns:\n",
    "        input_data_df[col] = 0  # Add missing features with default value\n",
    "\n",
    "# Reorder columns to match training data\n",
    "input_data_df = input_data_df[feature_names]\n",
    "\n",
    "# Make Prediction\n",
    "prediction = loaded_model.predict(input_data_df)\n",
    "pred_prob = loaded_model.predict_proba(input_data_df)[:, 1]  # Probability of churn\n",
    "\n",
    "# Display results\n",
    "print(f\"Prediction: {'Churn [1]' if prediction[0] == 1 else 'No Churn [0]'}\")\n",
    "print(f\"Prediction Probability: {pred_prob[0]:.4f}\")\n"
   ]
  },
  {
   "cell_type": "code",
   "execution_count": null,
   "id": "52b67029-5063-4f16-afa3-6042531dcf1b",
   "metadata": {},
   "outputs": [],
   "source": []
  }
 ],
 "metadata": {
  "kernelspec": {
   "display_name": "Python 3 (ipykernel)",
   "language": "python",
   "name": "python3"
  },
  "language_info": {
   "codemirror_mode": {
    "name": "ipython",
    "version": 3
   },
   "file_extension": ".py",
   "mimetype": "text/x-python",
   "name": "python",
   "nbconvert_exporter": "python",
   "pygments_lexer": "ipython3",
   "version": "3.12.4"
  }
 },
 "nbformat": 4,
 "nbformat_minor": 5
}
